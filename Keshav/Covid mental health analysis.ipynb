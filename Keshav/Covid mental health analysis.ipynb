{
 "cells": [
  {
   "cell_type": "code",
   "execution_count": 1,
   "metadata": {
    "collapsed": false
   },
   "outputs": [
   ],
   "source": [
    "import pandas as pd"
   ]
  },
  {
   "cell_type": "code",
   "execution_count": 7,
   "metadata": {
    "collapsed": false
   },
   "outputs": [
   ],
   "source": [
    "data = pd.read_csv('https://raw.githubusercontent.com/bamartin1618/1WeekDataset/main/COVID-19Responses.csv')"
   ]
  },
  {
   "cell_type": "code",
   "execution_count": 8,
   "metadata": {
    "collapsed": false
   },
   "outputs": [
    {
     "data": {
      "text/html": [
       "<div>\n",
       "<style scoped>\n",
       "    .dataframe tbody tr th:only-of-type {\n",
       "        vertical-align: middle;\n",
       "    }\n",
       "\n",
       "    .dataframe tbody tr th {\n",
       "        vertical-align: top;\n",
       "    }\n",
       "\n",
       "    .dataframe thead th {\n",
       "        text-align: right;\n",
       "    }\n",
       "</style>\n",
       "<table border=\"1\" class=\"dataframe\">\n",
       "  <thead>\n",
       "    <tr style=\"text-align: right;\">\n",
       "      <th></th>\n",
       "      <th>ID</th>\n",
       "      <th>Region of residence</th>\n",
       "      <th>Age of Subject</th>\n",
       "      <th>Time spent on Online Class</th>\n",
       "      <th>Rating of Online Class experience</th>\n",
       "      <th>Medium for online class</th>\n",
       "      <th>Time spent on self study</th>\n",
       "      <th>Time spent on fitness</th>\n",
       "      <th>Time spent on sleep</th>\n",
       "      <th>Time spent on social media</th>\n",
       "      <th>Prefered social media platform</th>\n",
       "      <th>Time spent on TV</th>\n",
       "      <th>Number of meals per day</th>\n",
       "      <th>Change in your weight</th>\n",
       "      <th>Health issue during lockdown</th>\n",
       "      <th>Stress busters</th>\n",
       "      <th>Time utilized</th>\n",
       "      <th>Do you find yourself more connected with your family, close friends , relatives  ?</th>\n",
       "      <th>What you miss the most</th>\n",
       "    </tr>\n",
       "  </thead>\n",
       "  <tbody>\n",
       "    <tr>\n",
       "      <th>0</th>\n",
       "      <td>R1</td>\n",
       "      <td>Delhi-NCR</td>\n",
       "      <td>21</td>\n",
       "      <td>2.0</td>\n",
       "      <td>Good</td>\n",
       "      <td>Laptop/Desktop</td>\n",
       "      <td>4.0</td>\n",
       "      <td>0.0</td>\n",
       "      <td>7.0</td>\n",
       "      <td>3.0</td>\n",
       "      <td>Linkedin</td>\n",
       "      <td>1</td>\n",
       "      <td>4</td>\n",
       "      <td>Increased</td>\n",
       "      <td>NO</td>\n",
       "      <td>Cooking</td>\n",
       "      <td>YES</td>\n",
       "      <td>YES</td>\n",
       "      <td>School/college</td>\n",
       "    </tr>\n",
       "    <tr>\n",
       "      <th>1</th>\n",
       "      <td>R2</td>\n",
       "      <td>Delhi-NCR</td>\n",
       "      <td>21</td>\n",
       "      <td>0.0</td>\n",
       "      <td>Excellent</td>\n",
       "      <td>Smartphone</td>\n",
       "      <td>0.0</td>\n",
       "      <td>2.0</td>\n",
       "      <td>10.0</td>\n",
       "      <td>3.0</td>\n",
       "      <td>Youtube</td>\n",
       "      <td>0</td>\n",
       "      <td>3</td>\n",
       "      <td>Decreased</td>\n",
       "      <td>NO</td>\n",
       "      <td>Scrolling through social media</td>\n",
       "      <td>YES</td>\n",
       "      <td>NO</td>\n",
       "      <td>Roaming around freely</td>\n",
       "    </tr>\n",
       "    <tr>\n",
       "      <th>2</th>\n",
       "      <td>R3</td>\n",
       "      <td>Delhi-NCR</td>\n",
       "      <td>20</td>\n",
       "      <td>7.0</td>\n",
       "      <td>Very poor</td>\n",
       "      <td>Laptop/Desktop</td>\n",
       "      <td>3.0</td>\n",
       "      <td>0.0</td>\n",
       "      <td>6.0</td>\n",
       "      <td>2.0</td>\n",
       "      <td>Linkedin</td>\n",
       "      <td>0</td>\n",
       "      <td>3</td>\n",
       "      <td>Remain Constant</td>\n",
       "      <td>NO</td>\n",
       "      <td>Listening to music</td>\n",
       "      <td>NO</td>\n",
       "      <td>YES</td>\n",
       "      <td>Travelling</td>\n",
       "    </tr>\n",
       "    <tr>\n",
       "      <th>3</th>\n",
       "      <td>R4</td>\n",
       "      <td>Delhi-NCR</td>\n",
       "      <td>20</td>\n",
       "      <td>3.0</td>\n",
       "      <td>Very poor</td>\n",
       "      <td>Smartphone</td>\n",
       "      <td>2.0</td>\n",
       "      <td>1.0</td>\n",
       "      <td>6.0</td>\n",
       "      <td>5.0</td>\n",
       "      <td>Instagram</td>\n",
       "      <td>0</td>\n",
       "      <td>3</td>\n",
       "      <td>Decreased</td>\n",
       "      <td>NO</td>\n",
       "      <td>Watching web series</td>\n",
       "      <td>NO</td>\n",
       "      <td>NO</td>\n",
       "      <td>Friends , relatives</td>\n",
       "    </tr>\n",
       "    <tr>\n",
       "      <th>4</th>\n",
       "      <td>R5</td>\n",
       "      <td>Delhi-NCR</td>\n",
       "      <td>21</td>\n",
       "      <td>3.0</td>\n",
       "      <td>Good</td>\n",
       "      <td>Laptop/Desktop</td>\n",
       "      <td>3.0</td>\n",
       "      <td>1.0</td>\n",
       "      <td>8.0</td>\n",
       "      <td>3.0</td>\n",
       "      <td>Instagram</td>\n",
       "      <td>1</td>\n",
       "      <td>4</td>\n",
       "      <td>Remain Constant</td>\n",
       "      <td>NO</td>\n",
       "      <td>Social Media</td>\n",
       "      <td>NO</td>\n",
       "      <td>NO</td>\n",
       "      <td>Travelling</td>\n",
       "    </tr>\n",
       "  </tbody>\n",
       "</table>\n",
       "</div>"
      ],
      "text/plain": [
       "   ID Region of residence  Age of Subject  Time spent on Online Class  \\\n",
       "0  R1           Delhi-NCR              21                         2.0   \n",
       "1  R2           Delhi-NCR              21                         0.0   \n",
       "2  R3           Delhi-NCR              20                         7.0   \n",
       "3  R4           Delhi-NCR              20                         3.0   \n",
       "4  R5           Delhi-NCR              21                         3.0   \n",
       "\n",
       "  Rating of Online Class experience Medium for online class  \\\n",
       "0                              Good          Laptop/Desktop   \n",
       "1                         Excellent              Smartphone   \n",
       "2                         Very poor          Laptop/Desktop   \n",
       "3                         Very poor              Smartphone   \n",
       "4                              Good          Laptop/Desktop   \n",
       "\n",
       "   Time spent on self study  Time spent on fitness  Time spent on sleep  \\\n",
       "0                       4.0                    0.0                  7.0   \n",
       "1                       0.0                    2.0                 10.0   \n",
       "2                       3.0                    0.0                  6.0   \n",
       "3                       2.0                    1.0                  6.0   \n",
       "4                       3.0                    1.0                  8.0   \n",
       "\n",
       "   Time spent on social media Prefered social media platform Time spent on TV  \\\n",
       "0                         3.0                       Linkedin                1   \n",
       "1                         3.0                        Youtube                0   \n",
       "2                         2.0                       Linkedin                0   \n",
       "3                         5.0                      Instagram                0   \n",
       "4                         3.0                      Instagram                1   \n",
       "\n",
       "   Number of meals per day Change in your weight Health issue during lockdown  \\\n",
       "0                        4             Increased                           NO   \n",
       "1                        3             Decreased                           NO   \n",
       "2                        3       Remain Constant                           NO   \n",
       "3                        3             Decreased                           NO   \n",
       "4                        4       Remain Constant                           NO   \n",
       "\n",
       "                   Stress busters Time utilized  \\\n",
       "0                         Cooking           YES   \n",
       "1  Scrolling through social media           YES   \n",
       "2              Listening to music            NO   \n",
       "3             Watching web series            NO   \n",
       "4                    Social Media            NO   \n",
       "\n",
       "  Do you find yourself more connected with your family, close friends , relatives  ?  \\\n",
       "0                                                YES                                   \n",
       "1                                                 NO                                   \n",
       "2                                                YES                                   \n",
       "3                                                 NO                                   \n",
       "4                                                 NO                                   \n",
       "\n",
       "  What you miss the most  \n",
       "0         School/college  \n",
       "1  Roaming around freely  \n",
       "2             Travelling  \n",
       "3    Friends , relatives  \n",
       "4             Travelling  "
      ]
     },
     "execution_count": 8,
     "metadata": {
     },
     "output_type": "execute_result"
    }
   ],
   "source": [
    "data.head()"
   ]
  },
  {
   "cell_type": "code",
   "execution_count": 9,
   "metadata": {
    "collapsed": false
   },
   "outputs": [
    {
     "name": "stdout",
     "output_type": "stream",
     "text": [
      "<class 'pandas.core.frame.DataFrame'>\n",
      "RangeIndex: 1182 entries, 0 to 1181\n",
      "Data columns (total 19 columns):\n",
      " #   Column                                                                              Non-Null Count  Dtype  \n",
      "---  ------                                                                              --------------  -----  \n",
      " 0   ID                                                                                  1182 non-null   object \n",
      " 1   Region of residence                                                                 1182 non-null   object \n",
      " 2   Age of Subject                                                                      1182 non-null   int64  \n",
      " 3   Time spent on Online Class                                                          1182 non-null   float64\n",
      " 4   Rating of Online Class experience                                                   1158 non-null   object \n",
      " 5   Medium for online class                                                             1131 non-null   object \n",
      " 6   Time spent on self study                                                            1182 non-null   float64\n",
      " 7   Time spent on fitness                                                               1182 non-null   float64\n",
      " 8   Time spent on sleep                                                                 1182 non-null   float64\n",
      " 9   Time spent on social media                                                          1182 non-null   float64\n",
      " 10  Prefered social media platform                                                      1182 non-null   object \n",
      " 11  Time spent on TV                                                                    1182 non-null   object \n",
      " 12  Number of meals per day                                                             1182 non-null   int64  \n",
      " 13  Change in your weight                                                               1182 non-null   object \n",
      " 14  Health issue during lockdown                                                        1182 non-null   object \n",
      " 15  Stress busters                                                                      1182 non-null   object \n",
      " 16  Time utilized                                                                       1182 non-null   object \n",
      " 17  Do you find yourself more connected with your family, close friends , relatives  ?  1182 non-null   object \n",
      " 18  What you miss the most                                                              1182 non-null   object \n",
      "dtypes: float64(5), int64(2), object(12)\n",
      "memory usage: 175.6+ KB\n"
     ]
    }
   ],
   "source": [
    "data.info()"
   ]
  },
  {
   "cell_type": "code",
   "execution_count": 10,
   "metadata": {
    "collapsed": false
   },
   "outputs": [
    {
     "data": {
      "text/plain": [
       "Index(['ID', 'Region of residence', 'Age of Subject',\n",
       "       'Time spent on Online Class', 'Rating of Online Class experience',\n",
       "       'Medium for online class', 'Time spent on self study',\n",
       "       'Time spent on fitness', 'Time spent on sleep',\n",
       "       'Time spent on social media', 'Prefered social media platform',\n",
       "       'Time spent on TV', 'Number of meals per day', 'Change in your weight',\n",
       "       'Health issue during lockdown', 'Stress busters', 'Time utilized',\n",
       "       'Do you find yourself more connected with your family, close friends , relatives  ?',\n",
       "       'What you miss the most'],\n",
       "      dtype='object')"
      ]
     },
     "execution_count": 10,
     "metadata": {
     },
     "output_type": "execute_result"
    }
   ],
   "source": [
    "data.columns"
   ]
  },
  {
   "cell_type": "code",
   "execution_count": 12,
   "metadata": {
    "collapsed": false
   },
   "outputs": [
    {
     "data": {
      "text/html": [
       "<div>\n",
       "<style scoped>\n",
       "    .dataframe tbody tr th:only-of-type {\n",
       "        vertical-align: middle;\n",
       "    }\n",
       "\n",
       "    .dataframe tbody tr th {\n",
       "        vertical-align: top;\n",
       "    }\n",
       "\n",
       "    .dataframe thead th {\n",
       "        text-align: right;\n",
       "    }\n",
       "</style>\n",
       "<table border=\"1\" class=\"dataframe\">\n",
       "  <thead>\n",
       "    <tr style=\"text-align: right;\">\n",
       "      <th></th>\n",
       "      <th>Age of Subject</th>\n",
       "      <th>Time spent on Online Class</th>\n",
       "      <th>Time spent on self study</th>\n",
       "      <th>Time spent on fitness</th>\n",
       "      <th>Time spent on sleep</th>\n",
       "      <th>Time spent on social media</th>\n",
       "      <th>Number of meals per day</th>\n",
       "    </tr>\n",
       "  </thead>\n",
       "  <tbody>\n",
       "    <tr>\n",
       "      <th>count</th>\n",
       "      <td>1182.000000</td>\n",
       "      <td>1182.000000</td>\n",
       "      <td>1182.000000</td>\n",
       "      <td>1182.000000</td>\n",
       "      <td>1182.000000</td>\n",
       "      <td>1182.000000</td>\n",
       "      <td>1182.000000</td>\n",
       "    </tr>\n",
       "    <tr>\n",
       "      <th>mean</th>\n",
       "      <td>20.165821</td>\n",
       "      <td>3.208841</td>\n",
       "      <td>2.911591</td>\n",
       "      <td>0.765821</td>\n",
       "      <td>7.871235</td>\n",
       "      <td>2.365694</td>\n",
       "      <td>2.917936</td>\n",
       "    </tr>\n",
       "    <tr>\n",
       "      <th>std</th>\n",
       "      <td>5.516467</td>\n",
       "      <td>2.101756</td>\n",
       "      <td>2.140590</td>\n",
       "      <td>0.724451</td>\n",
       "      <td>1.615762</td>\n",
       "      <td>1.767336</td>\n",
       "      <td>0.828698</td>\n",
       "    </tr>\n",
       "    <tr>\n",
       "      <th>min</th>\n",
       "      <td>7.000000</td>\n",
       "      <td>0.000000</td>\n",
       "      <td>0.000000</td>\n",
       "      <td>0.000000</td>\n",
       "      <td>4.000000</td>\n",
       "      <td>0.000000</td>\n",
       "      <td>1.000000</td>\n",
       "    </tr>\n",
       "    <tr>\n",
       "      <th>25%</th>\n",
       "      <td>17.000000</td>\n",
       "      <td>2.000000</td>\n",
       "      <td>2.000000</td>\n",
       "      <td>0.000000</td>\n",
       "      <td>7.000000</td>\n",
       "      <td>1.000000</td>\n",
       "      <td>2.000000</td>\n",
       "    </tr>\n",
       "    <tr>\n",
       "      <th>50%</th>\n",
       "      <td>20.000000</td>\n",
       "      <td>3.000000</td>\n",
       "      <td>2.000000</td>\n",
       "      <td>1.000000</td>\n",
       "      <td>8.000000</td>\n",
       "      <td>2.000000</td>\n",
       "      <td>3.000000</td>\n",
       "    </tr>\n",
       "    <tr>\n",
       "      <th>75%</th>\n",
       "      <td>21.000000</td>\n",
       "      <td>5.000000</td>\n",
       "      <td>4.000000</td>\n",
       "      <td>1.000000</td>\n",
       "      <td>9.000000</td>\n",
       "      <td>3.000000</td>\n",
       "      <td>3.000000</td>\n",
       "    </tr>\n",
       "    <tr>\n",
       "      <th>max</th>\n",
       "      <td>59.000000</td>\n",
       "      <td>10.000000</td>\n",
       "      <td>18.000000</td>\n",
       "      <td>5.000000</td>\n",
       "      <td>15.000000</td>\n",
       "      <td>10.000000</td>\n",
       "      <td>8.000000</td>\n",
       "    </tr>\n",
       "  </tbody>\n",
       "</table>\n",
       "</div>"
      ],
      "text/plain": [
       "       Age of Subject  Time spent on Online Class  Time spent on self study  \\\n",
       "count     1182.000000                 1182.000000               1182.000000   \n",
       "mean        20.165821                    3.208841                  2.911591   \n",
       "std          5.516467                    2.101756                  2.140590   \n",
       "min          7.000000                    0.000000                  0.000000   \n",
       "25%         17.000000                    2.000000                  2.000000   \n",
       "50%         20.000000                    3.000000                  2.000000   \n",
       "75%         21.000000                    5.000000                  4.000000   \n",
       "max         59.000000                   10.000000                 18.000000   \n",
       "\n",
       "       Time spent on fitness  Time spent on sleep  Time spent on social media  \\\n",
       "count            1182.000000          1182.000000                 1182.000000   \n",
       "mean                0.765821             7.871235                    2.365694   \n",
       "std                 0.724451             1.615762                    1.767336   \n",
       "min                 0.000000             4.000000                    0.000000   \n",
       "25%                 0.000000             7.000000                    1.000000   \n",
       "50%                 1.000000             8.000000                    2.000000   \n",
       "75%                 1.000000             9.000000                    3.000000   \n",
       "max                 5.000000            15.000000                   10.000000   \n",
       "\n",
       "       Number of meals per day  \n",
       "count              1182.000000  \n",
       "mean                  2.917936  \n",
       "std                   0.828698  \n",
       "min                   1.000000  \n",
       "25%                   2.000000  \n",
       "50%                   3.000000  \n",
       "75%                   3.000000  \n",
       "max                   8.000000  "
      ]
     },
     "execution_count": 12,
     "metadata": {
     },
     "output_type": "execute_result"
    }
   ],
   "source": [
    "data.describe()"
   ]
  },
  {
   "cell_type": "code",
   "execution_count": 14,
   "metadata": {
    "collapsed": false
   },
   "outputs": [
   ],
   "source": [
    "data['Rating of Online Class experience'] = data['Rating of Online Class experience'].fillna(data['Rating of Online Class experience'].mode()[0])\n",
    "\n",
    "data['Medium for online class'] = data['Medium for online class'].fillna(data['Medium for online class'].mode()[0])"
   ]
  },
  {
   "cell_type": "code",
   "execution_count": 15,
   "metadata": {
    "collapsed": false
   },
   "outputs": [
    {
     "name": "stdout",
     "output_type": "stream",
     "text": [
      "<class 'pandas.core.frame.DataFrame'>\n",
      "RangeIndex: 1182 entries, 0 to 1181\n",
      "Data columns (total 19 columns):\n",
      " #   Column                                                                              Non-Null Count  Dtype  \n",
      "---  ------                                                                              --------------  -----  \n",
      " 0   ID                                                                                  1182 non-null   object \n",
      " 1   Region of residence                                                                 1182 non-null   object \n",
      " 2   Age of Subject                                                                      1182 non-null   int64  \n",
      " 3   Time spent on Online Class                                                          1182 non-null   float64\n",
      " 4   Rating of Online Class experience                                                   1182 non-null   object \n",
      " 5   Medium for online class                                                             1182 non-null   object \n",
      " 6   Time spent on self study                                                            1182 non-null   float64\n",
      " 7   Time spent on fitness                                                               1182 non-null   float64\n",
      " 8   Time spent on sleep                                                                 1182 non-null   float64\n",
      " 9   Time spent on social media                                                          1182 non-null   float64\n",
      " 10  Prefered social media platform                                                      1182 non-null   object \n",
      " 11  Time spent on TV                                                                    1182 non-null   object \n",
      " 12  Number of meals per day                                                             1182 non-null   int64  \n",
      " 13  Change in your weight                                                               1182 non-null   object \n",
      " 14  Health issue during lockdown                                                        1182 non-null   object \n",
      " 15  Stress busters                                                                      1182 non-null   object \n",
      " 16  Time utilized                                                                       1182 non-null   object \n",
      " 17  Do you find yourself more connected with your family, close friends , relatives  ?  1182 non-null   object \n",
      " 18  What you miss the most                                                              1182 non-null   object \n",
      "dtypes: float64(5), int64(2), object(12)\n",
      "memory usage: 175.6+ KB\n"
     ]
    }
   ],
   "source": [
    "data.info()"
   ]
  },
  {
   "cell_type": "code",
   "execution_count": 0,
   "metadata": {
    "collapsed": false
   },
   "outputs": [
   ],
   "source": [
   ]
  },
  {
   "cell_type": "code",
   "execution_count": 0,
   "metadata": {
    "collapsed": false
   },
   "outputs": [
   ],
   "source": [
   ]
  },
  {
   "cell_type": "code",
   "execution_count": 0,
   "metadata": {
    "collapsed": false
   },
   "outputs": [
   ],
   "source": [
   ]
  },
  {
   "cell_type": "code",
   "execution_count": 0,
   "metadata": {
    "collapsed": false
   },
   "outputs": [
   ],
   "source": [
   ]
  },
  {
   "cell_type": "code",
   "execution_count": 0,
   "metadata": {
    "collapsed": false
   },
   "outputs": [
   ],
   "source": [
   ]
  }
 ],
 "metadata": {
  "kernelspec": {
   "display_name": "Python 3 (Ubuntu Linux)",
   "language": "python",
   "name": "python3-ubuntu",
   "resource_dir": "/usr/local/share/jupyter/kernels/python3-ubuntu"
  }
 },
 "nbformat": 4,
 "nbformat_minor": 4
}